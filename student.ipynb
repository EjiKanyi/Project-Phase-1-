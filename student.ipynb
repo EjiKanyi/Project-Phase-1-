{
 "cells": [
  {
   "cell_type": "markdown",
   "metadata": {},
   "source": [
    "## Final Project Submission\n",
    "\n",
    "Please fill out: \n",
    "* Student name: EJIDIAH KANYI\n",
    "* Student pace: Full time\n",
    "* Scheduled project review date/time: 15/09/2023\n",
    "* Instructor name: NIKITA NJOROGE, SAMUEL KARU, LUCILLE KALEHA & DIANA MONGINA\n",
    "* Blog post URL:\n"
   ]
  },
  {
   "cell_type": "code",
   "execution_count": 9,
   "metadata": {},
   "outputs": [],
   "source": [
    "# Your code here - remember to use markdown cells for comments as well!"
   ]
  },
  {
   "cell_type": "markdown",
   "metadata": {},
   "source": [
    "# MICROSOFT MOVIE PROJECT"
   ]
  },
  {
   "cell_type": "markdown",
   "metadata": {},
   "source": [
    "# Business Understanding"
   ]
  },
  {
   "cell_type": "markdown",
   "metadata": {},
   "source": [
    "**Objective** \n",
    "\n",
    "Microsoft is venturing into the film industry by establishing a new movie studio. However, lacking experience in movie production, they face challenges in making informed decisions about the types of films to produce and how to distribute them effectively. The primary objectives are twofold:\n",
    "\n",
    "\n",
    "1. **Genre Selection:** To determine which movie genres are currently performing the best at the box office. This involves analyzing historical box office data to identify genres that have consistently generated high box office revenues and trends that indicate audience preferences.\n",
    "\n",
    "2. **Distribution Strategy:** To understand how the number of screens a movie is released on correlates with its box office success across different genres. Investigate whether wide releases or limited releases are more effective for specific genres and how screen allocation impacts revenue."
   ]
  },
  {
   "cell_type": "markdown",
   "metadata": {},
   "source": [
    "# Data Preparation"
   ]
  },
  {
   "cell_type": "markdown",
   "metadata": {},
   "source": [
    "**Data Sources** \n",
    "\n",
    "The data sources of historical box office, including movie titles, genres, box office revenue, production budgets, release years, audience ratings, and screen allocation details.\n",
    "\n",
    "**Data Exploration**\n",
    "\n",
    "Loading and exploring the dataset to gain a preliminary understanding of the available data."
   ]
  },
  {
   "cell_type": "code",
   "execution_count": 10,
   "metadata": {},
   "outputs": [],
   "source": [
    "#Importing DataFrame\n",
    "import pandas as pd\n",
    "import numpy as np\n",
    "import matplotlib.pyplot as plt\n",
    "import seaborn as sns\n",
    "\n",
    "import sqlite3\n",
    "\n",
    "new_db_path = r'C:\\Users\\USER\\Downloads\\Phase_1\\dsc-phase-1-project-v2-4\\zippedData\\new_db.db'\n",
    "conn = sqlite3.connect(new_db_path)"
   ]
  },
  {
   "cell_type": "code",
   "execution_count": 11,
   "metadata": {},
   "outputs": [
    {
     "name": "stdout",
     "output_type": "stream",
     "text": [
      "BOM Movie Gross Data:\n",
      "                                         title studio  domestic_gross  \\\n",
      "0                                  Toy Story 3     BV     415000000.0   \n",
      "1                   Alice in Wonderland (2010)     BV     334200000.0   \n",
      "2  Harry Potter and the Deathly Hallows Part 1     WB     296000000.0   \n",
      "3                                    Inception     WB     292600000.0   \n",
      "4                          Shrek Forever After   P/DW     238700000.0   \n",
      "\n",
      "  foreign_gross  year  \n",
      "0     652000000  2010  \n",
      "1     691300000  2010  \n",
      "2     664300000  2010  \n",
      "3     535700000  2010  \n",
      "4     513900000  2010  \n",
      "\n",
      "TMDB Movies Data:\n",
      "   Unnamed: 0            genre_ids     id original_language  \\\n",
      "0           0      [12, 14, 10751]  12444                en   \n",
      "1           1  [14, 12, 16, 10751]  10191                en   \n",
      "2           2        [12, 28, 878]  10138                en   \n",
      "3           3      [16, 35, 10751]    862                en   \n",
      "4           4        [28, 878, 12]  27205                en   \n",
      "\n",
      "                                 original_title  popularity release_date  \\\n",
      "0  Harry Potter and the Deathly Hallows: Part 1      33.533   2010-11-19   \n",
      "1                      How to Train Your Dragon      28.734   2010-03-26   \n",
      "2                                    Iron Man 2      28.515   2010-05-07   \n",
      "3                                     Toy Story      28.005   1995-11-22   \n",
      "4                                     Inception      27.920   2010-07-16   \n",
      "\n",
      "                                          title  vote_average  vote_count  \n",
      "0  Harry Potter and the Deathly Hallows: Part 1           7.7       10788  \n",
      "1                      How to Train Your Dragon           7.7        7610  \n",
      "2                                    Iron Man 2           6.8       12368  \n",
      "3                                     Toy Story           7.9       10174  \n",
      "4                                     Inception           8.3       22186  \n",
      "\n",
      "Unique Genres in TMDB Movies:\n",
      "['[12, 14, 10751]' '[14, 12, 16, 10751]' '[12, 28, 878]' ...\n",
      " '[18, 14, 27, 878, 10749, 53]' '[16, 27, 9648]' '[10751, 12, 28]']\n",
      "\n",
      "TN Movie Budgets Data:\n",
      "   id  release_date                                        movie  \\\n",
      "0   1  Dec 18, 2009                                       Avatar   \n",
      "1   2  May 20, 2011  Pirates of the Caribbean: On Stranger Tides   \n",
      "2   3   Jun 7, 2019                                 Dark Phoenix   \n",
      "3   4   May 1, 2015                      Avengers: Age of Ultron   \n",
      "4   5  Dec 15, 2017            Star Wars Ep. VIII: The Last Jedi   \n",
      "\n",
      "  production_budget domestic_gross worldwide_gross  \n",
      "0      $425,000,000   $760,507,625  $2,776,345,279  \n",
      "1      $410,600,000   $241,063,875  $1,045,663,875  \n",
      "2      $350,000,000    $42,762,350    $149,762,350  \n",
      "3      $330,600,000   $459,005,868  $1,403,013,963  \n",
      "4      $317,000,000   $620,181,382  $1,316,721,747  \n",
      "\n",
      "Summary Statistics for TN Movie Budgets:\n",
      "                id\n",
      "count  5782.000000\n",
      "mean     50.372363\n",
      "std      28.821076\n",
      "min       1.000000\n",
      "25%      25.000000\n",
      "50%      50.000000\n",
      "75%      75.000000\n",
      "max     100.000000\n"
     ]
    }
   ],
   "source": [
    "#Loading data from  CSV files \n",
    "\n",
    "bom_movie_gross = pd.read_csv('bom.movie_gross.csv.gz')\n",
    "print(\"BOM Movie Gross Data:\")\n",
    "print(bom_movie_gross.head())\n",
    "\n",
    "\n",
    "tmdb_movies = pd.read_csv('tmdb.movies.csv.gz')\n",
    "print(\"\\nTMDB Movies Data:\")\n",
    "print(tmdb_movies.head())\n",
    "\n",
    "print(\"\\nUnique Genres in TMDB Movies:\")\n",
    "print(tmdb_movies['genre_ids'].unique())\n",
    "\n",
    "\n",
    "tn_movie_budgets = pd.read_csv('tn.movie_budgets.csv.gz')\n",
    "print(\"\\nTN Movie Budgets Data:\")\n",
    "print(tn_movie_budgets.head())\n",
    "\n",
    "print(\"\\nSummary Statistics for TN Movie Budgets:\")\n",
    "print(tn_movie_budgets.describe())\n"
   ]
  },
  {
   "cell_type": "code",
   "execution_count": 12,
   "metadata": {},
   "outputs": [
    {
     "name": "stdout",
     "output_type": "stream",
     "text": [
      "\n",
      "RT Movie Info Data:\n",
      "   id                                           synopsis rating  \\\n",
      "0   1  This gritty, fast-paced, and innovative police...      R   \n",
      "1   3  New York City, not-too-distant-future: Eric Pa...      R   \n",
      "2   5  Illeana Douglas delivers a superb performance ...      R   \n",
      "3   6  Michael Douglas runs afoul of a treacherous su...      R   \n",
      "4   7                                                NaN     NR   \n",
      "\n",
      "                                 genre          director  \\\n",
      "0  Action and Adventure|Classics|Drama  William Friedkin   \n",
      "1    Drama|Science Fiction and Fantasy  David Cronenberg   \n",
      "2    Drama|Musical and Performing Arts    Allison Anders   \n",
      "3           Drama|Mystery and Suspense    Barry Levinson   \n",
      "4                        Drama|Romance    Rodney Bennett   \n",
      "\n",
      "                            writer  theater_date      dvd_date currency  \\\n",
      "0                   Ernest Tidyman   Oct 9, 1971  Sep 25, 2001      NaN   \n",
      "1     David Cronenberg|Don DeLillo  Aug 17, 2012   Jan 1, 2013        $   \n",
      "2                   Allison Anders  Sep 13, 1996  Apr 18, 2000      NaN   \n",
      "3  Paul Attanasio|Michael Crichton   Dec 9, 1994  Aug 27, 1997      NaN   \n",
      "4                     Giles Cooper           NaN           NaN      NaN   \n",
      "\n",
      "  box_office      runtime             studio  \n",
      "0        NaN  104 minutes                NaN  \n",
      "1    600,000  108 minutes  Entertainment One  \n",
      "2        NaN  116 minutes                NaN  \n",
      "3        NaN  128 minutes                NaN  \n",
      "4        NaN  200 minutes                NaN  \n"
     ]
    },
    {
     "name": "stdout",
     "output_type": "stream",
     "text": [
      "\n",
      "RT Reviews Data:\n",
      "   id                                             review rating   fresh  \\\n",
      "0   3  A distinctly gallows take on contemporary fina...    3/5   fresh   \n",
      "1   3  It's an allegory in search of a meaning that n...    NaN  rotten   \n",
      "2   3  ... life lived in a bubble in financial dealin...    NaN   fresh   \n",
      "3   3  Continuing along a line introduced in last yea...    NaN   fresh   \n",
      "4   3             ... a perverse twist on neorealism...     NaN   fresh   \n",
      "\n",
      "           critic  top_critic         publisher               date  \n",
      "0      PJ Nabarro           0   Patrick Nabarro  November 10, 2018  \n",
      "1  Annalee Newitz           0           io9.com       May 23, 2018  \n",
      "2    Sean Axmaker           0  Stream on Demand    January 4, 2018  \n",
      "3   Daniel Kasman           0              MUBI  November 16, 2017  \n",
      "4             NaN           0      Cinema Scope   October 12, 2017  \n"
     ]
    },
    {
     "data": {
      "text/html": [
       "<div>\n",
       "<style scoped>\n",
       "    .dataframe tbody tr th:only-of-type {\n",
       "        vertical-align: middle;\n",
       "    }\n",
       "\n",
       "    .dataframe tbody tr th {\n",
       "        vertical-align: top;\n",
       "    }\n",
       "\n",
       "    .dataframe thead th {\n",
       "        text-align: right;\n",
       "    }\n",
       "</style>\n",
       "<table border=\"1\" class=\"dataframe\">\n",
       "  <thead>\n",
       "    <tr style=\"text-align: right;\">\n",
       "      <th></th>\n",
       "      <th>id</th>\n",
       "      <th>release_date</th>\n",
       "      <th>movie</th>\n",
       "      <th>production_budget</th>\n",
       "      <th>domestic_gross</th>\n",
       "      <th>worldwide_gross</th>\n",
       "    </tr>\n",
       "  </thead>\n",
       "  <tbody>\n",
       "    <tr>\n",
       "      <th>0</th>\n",
       "      <td>1</td>\n",
       "      <td>Dec 18, 2009</td>\n",
       "      <td>Avatar</td>\n",
       "      <td>$425,000,000</td>\n",
       "      <td>$760,507,625</td>\n",
       "      <td>$2,776,345,279</td>\n",
       "    </tr>\n",
       "    <tr>\n",
       "      <th>1</th>\n",
       "      <td>2</td>\n",
       "      <td>May 20, 2011</td>\n",
       "      <td>Pirates of the Caribbean: On Stranger Tides</td>\n",
       "      <td>$410,600,000</td>\n",
       "      <td>$241,063,875</td>\n",
       "      <td>$1,045,663,875</td>\n",
       "    </tr>\n",
       "    <tr>\n",
       "      <th>2</th>\n",
       "      <td>3</td>\n",
       "      <td>Jun 7, 2019</td>\n",
       "      <td>Dark Phoenix</td>\n",
       "      <td>$350,000,000</td>\n",
       "      <td>$42,762,350</td>\n",
       "      <td>$149,762,350</td>\n",
       "    </tr>\n",
       "    <tr>\n",
       "      <th>3</th>\n",
       "      <td>4</td>\n",
       "      <td>May 1, 2015</td>\n",
       "      <td>Avengers: Age of Ultron</td>\n",
       "      <td>$330,600,000</td>\n",
       "      <td>$459,005,868</td>\n",
       "      <td>$1,403,013,963</td>\n",
       "    </tr>\n",
       "    <tr>\n",
       "      <th>4</th>\n",
       "      <td>5</td>\n",
       "      <td>Dec 15, 2017</td>\n",
       "      <td>Star Wars Ep. VIII: The Last Jedi</td>\n",
       "      <td>$317,000,000</td>\n",
       "      <td>$620,181,382</td>\n",
       "      <td>$1,316,721,747</td>\n",
       "    </tr>\n",
       "    <tr>\n",
       "      <th>...</th>\n",
       "      <td>...</td>\n",
       "      <td>...</td>\n",
       "      <td>...</td>\n",
       "      <td>...</td>\n",
       "      <td>...</td>\n",
       "      <td>...</td>\n",
       "    </tr>\n",
       "    <tr>\n",
       "      <th>5777</th>\n",
       "      <td>78</td>\n",
       "      <td>Dec 31, 2018</td>\n",
       "      <td>Red 11</td>\n",
       "      <td>$7,000</td>\n",
       "      <td>$0</td>\n",
       "      <td>$0</td>\n",
       "    </tr>\n",
       "    <tr>\n",
       "      <th>5778</th>\n",
       "      <td>79</td>\n",
       "      <td>Apr 2, 1999</td>\n",
       "      <td>Following</td>\n",
       "      <td>$6,000</td>\n",
       "      <td>$48,482</td>\n",
       "      <td>$240,495</td>\n",
       "    </tr>\n",
       "    <tr>\n",
       "      <th>5779</th>\n",
       "      <td>80</td>\n",
       "      <td>Jul 13, 2005</td>\n",
       "      <td>Return to the Land of Wonders</td>\n",
       "      <td>$5,000</td>\n",
       "      <td>$1,338</td>\n",
       "      <td>$1,338</td>\n",
       "    </tr>\n",
       "    <tr>\n",
       "      <th>5780</th>\n",
       "      <td>81</td>\n",
       "      <td>Sep 29, 2015</td>\n",
       "      <td>A Plague So Pleasant</td>\n",
       "      <td>$1,400</td>\n",
       "      <td>$0</td>\n",
       "      <td>$0</td>\n",
       "    </tr>\n",
       "    <tr>\n",
       "      <th>5781</th>\n",
       "      <td>82</td>\n",
       "      <td>Aug 5, 2005</td>\n",
       "      <td>My Date With Drew</td>\n",
       "      <td>$1,100</td>\n",
       "      <td>$181,041</td>\n",
       "      <td>$181,041</td>\n",
       "    </tr>\n",
       "  </tbody>\n",
       "</table>\n",
       "<p>5782 rows × 6 columns</p>\n",
       "</div>"
      ],
      "text/plain": [
       "      id  release_date                                        movie  \\\n",
       "0      1  Dec 18, 2009                                       Avatar   \n",
       "1      2  May 20, 2011  Pirates of the Caribbean: On Stranger Tides   \n",
       "2      3   Jun 7, 2019                                 Dark Phoenix   \n",
       "3      4   May 1, 2015                      Avengers: Age of Ultron   \n",
       "4      5  Dec 15, 2017            Star Wars Ep. VIII: The Last Jedi   \n",
       "...   ..           ...                                          ...   \n",
       "5777  78  Dec 31, 2018                                       Red 11   \n",
       "5778  79   Apr 2, 1999                                    Following   \n",
       "5779  80  Jul 13, 2005                Return to the Land of Wonders   \n",
       "5780  81  Sep 29, 2015                         A Plague So Pleasant   \n",
       "5781  82   Aug 5, 2005                            My Date With Drew   \n",
       "\n",
       "     production_budget domestic_gross worldwide_gross  \n",
       "0         $425,000,000   $760,507,625  $2,776,345,279  \n",
       "1         $410,600,000   $241,063,875  $1,045,663,875  \n",
       "2         $350,000,000    $42,762,350    $149,762,350  \n",
       "3         $330,600,000   $459,005,868  $1,403,013,963  \n",
       "4         $317,000,000   $620,181,382  $1,316,721,747  \n",
       "...                ...            ...             ...  \n",
       "5777            $7,000             $0              $0  \n",
       "5778            $6,000        $48,482        $240,495  \n",
       "5779            $5,000         $1,338          $1,338  \n",
       "5780            $1,400             $0              $0  \n",
       "5781            $1,100       $181,041        $181,041  \n",
       "\n",
       "[5782 rows x 6 columns]"
      ]
     },
     "execution_count": 12,
     "metadata": {},
     "output_type": "execute_result"
    }
   ],
   "source": [
    "#Loading data compressed TSV files\n",
    "rt_movie_info = pd.read_csv('rt.movie_info.tsv.gz', delimiter='\\t', compression='gzip')\n",
    "print(\"\\nRT Movie Info Data:\")\n",
    "print(rt_movie_info.head())\n",
    "\n",
    "\n",
    "rt_reviews = pd.read_csv('rt.reviews.tsv.gz', delimiter='\\t', compression='gzip', encoding='latin1')\n",
    "print(\"\\nRT Reviews Data:\")\n",
    "print(rt_reviews.head())\n",
    "\n",
    "tmdb_movies\n",
    "tn_movie_budgets"
   ]
  },
  {
   "cell_type": "markdown",
   "metadata": {},
   "source": [
    "**Data Cleaning**\n",
    "\n",
    "Identifying columns with missing values, removing duplicates, transforming data and aggregating the data."
   ]
  },
  {
   "cell_type": "code",
   "execution_count": 13,
   "metadata": {},
   "outputs": [
    {
     "name": "stdout",
     "output_type": "stream",
     "text": [
      "\n",
      "Missing Values in RT Movie Info:\n",
      "id                 0\n",
      "synopsis          62\n",
      "rating             3\n",
      "genre              8\n",
      "director         199\n",
      "writer           449\n",
      "theater_date     359\n",
      "dvd_date         359\n",
      "currency        1220\n",
      "box_office      1220\n",
      "runtime           30\n",
      "studio          1066\n",
      "dtype: int64\n",
      "\n",
      "Missing Values in rt_reviews:\n",
      "id                0\n",
      "review         5563\n",
      "rating        13517\n",
      "fresh             0\n",
      "critic         2722\n",
      "top_critic        0\n",
      "publisher       309\n",
      "date              0\n",
      "dtype: int64\n",
      "\n",
      "Missing Values in BOM:\n",
      "title                0\n",
      "studio               5\n",
      "domestic_gross      28\n",
      "foreign_gross     1350\n",
      "year                 0\n",
      "dtype: int64\n",
      "\n",
      "Missing Value in tmdb_movies:\n",
      "Unnamed: 0           0\n",
      "genre_ids            0\n",
      "id                   0\n",
      "original_language    0\n",
      "original_title       0\n",
      "popularity           0\n",
      "release_date         0\n",
      "title                0\n",
      "vote_average         0\n",
      "vote_count           0\n",
      "dtype: int64\n",
      "\n",
      "Missing Values in tn_movie_budgets:\n",
      "id                   0\n",
      "release_date         0\n",
      "movie                0\n",
      "production_budget    0\n",
      "domestic_gross       0\n",
      "worldwide_gross      0\n",
      "dtype: int64\n"
     ]
    }
   ],
   "source": [
    "#Checking for missing values\n",
    "print(\"\\nMissing Values in RT Movie Info:\")\n",
    "print(rt_movie_info.isnull().sum())\n",
    "\n",
    "print(\"\\nMissing Values in rt_reviews:\")\n",
    "print(rt_reviews.isnull().sum())\n",
    "\n",
    "print(\"\\nMissing Values in BOM:\")\n",
    "print(bom_movie_gross.isnull().sum())\n",
    "\n",
    "print(\"\\nMissing Value in tmdb_movies:\")\n",
    "print(tmdb_movies.isnull().sum())\n",
    "\n",
    "print(\"\\nMissing Values in tn_movie_budgets:\")\n",
    "print(tn_movie_budgets.isnull().sum())"
   ]
  },
  {
   "cell_type": "code",
   "execution_count": 14,
   "metadata": {},
   "outputs": [
    {
     "name": "stdout",
     "output_type": "stream",
     "text": [
      "Handling Missing Values in bom_movie_gross DataFrame:\n",
      "                                         title studio  domestic_gross  \\\n",
      "0                                  Toy Story 3     BV     415000000.0   \n",
      "1                   Alice in Wonderland (2010)     BV     334200000.0   \n",
      "2  Harry Potter and the Deathly Hallows Part 1     WB     296000000.0   \n",
      "3                                    Inception     WB     292600000.0   \n",
      "4                          Shrek Forever After   P/DW     238700000.0   \n",
      "\n",
      "   foreign_gross  year  \n",
      "0    652000000.0  2010  \n",
      "1    691300000.0  2010  \n",
      "2    664300000.0  2010  \n",
      "3    535700000.0  2010  \n",
      "4    513900000.0  2010  \n",
      "\n",
      "Handling Missing Values in tmdb_movies DataFrame:\n",
      "   Unnamed: 0            genre_ids     id original_language  \\\n",
      "0           0      [12, 14, 10751]  12444                en   \n",
      "1           1  [14, 12, 16, 10751]  10191                en   \n",
      "2           2        [12, 28, 878]  10138                en   \n",
      "3           3      [16, 35, 10751]    862                en   \n",
      "4           4        [28, 878, 12]  27205                en   \n",
      "\n",
      "                                 original_title  popularity release_date  \\\n",
      "0  Harry Potter and the Deathly Hallows: Part 1      33.533   2010-11-19   \n",
      "1                      How to Train Your Dragon      28.734   2010-03-26   \n",
      "2                                    Iron Man 2      28.515   2010-05-07   \n",
      "3                                     Toy Story      28.005   1995-11-22   \n",
      "4                                     Inception      27.920   2010-07-16   \n",
      "\n",
      "                                          title  vote_average  vote_count  \n",
      "0  Harry Potter and the Deathly Hallows: Part 1           7.7       10788  \n",
      "1                      How to Train Your Dragon           7.7        7610  \n",
      "2                                    Iron Man 2           6.8       12368  \n",
      "3                                     Toy Story           7.9       10174  \n",
      "4                                     Inception           8.3       22186  \n",
      "\n",
      "Handling Missing Values in tn_movie_budgets DataFrame:\n",
      "\n",
      "Handling Missing Values in rt_movie_info DataFrame:\n",
      "    id                                           synopsis rating  \\\n",
      "1    3  New York City, not-too-distant-future: Eric Pa...      R   \n",
      "5    8  The year is 1942. As the Allies unite overseas...     PG   \n",
      "6   10  Some cast and crew from NBC's highly acclaimed...  PG-13   \n",
      "7   13  Stewart Kane, an Irishman living in the Austra...      R   \n",
      "15  22  Two-time Academy Award Winner Kevin Spacey giv...      R   \n",
      "\n",
      "                                genre             director  \\\n",
      "1   Drama|Science Fiction and Fantasy     David Cronenberg   \n",
      "5               Drama|Kids and Family          Jay Russell   \n",
      "6                              Comedy          Jake Kasdan   \n",
      "7                               Drama         Ray Lawrence   \n",
      "15  Comedy|Drama|Mystery and Suspense  George Hickenlooper   \n",
      "\n",
      "                              writer  theater_date      dvd_date currency  \\\n",
      "1       David Cronenberg|Don DeLillo  Aug 17, 2012   Jan 1, 2013        $   \n",
      "5                    Gail Gilchriest   Mar 3, 2000  Jul 11, 2000      NaN   \n",
      "6                         Mike White  Jan 11, 2002  Jun 18, 2002        $   \n",
      "7   Raymond Carver|Beatrix Christian  Apr 27, 2006   Oct 2, 2007        $   \n",
      "15                     Norman Snider  Dec 17, 2010   Apr 5, 2011        $   \n",
      "\n",
      "    box_office      runtime                  studio  \n",
      "1      600,000  108 minutes       Entertainment One  \n",
      "5          NaN   95 minutes   Warner Bros. Pictures  \n",
      "6   41,032,915   82 minutes      Paramount Pictures  \n",
      "7      224,114  123 minutes  Sony Pictures Classics  \n",
      "15   1,039,869  108 minutes            ATO Pictures  \n"
     ]
    }
   ],
   "source": [
    "#Handling missing Values\n",
    "# bom_movie_gross Data set\n",
    "print(\"Handling Missing Values in bom_movie_gross DataFrame:\")\n",
    "bom_movie_gross['studio'].fillna('Unknown', inplace=True)\n",
    "bom_movie_gross['title'].fillna('Unknown', inplace=True)\n",
    "bom_movie_gross['foreign_gross'] = pd.to_numeric(bom_movie_gross['foreign_gross'], errors='coerce')\n",
    "foreign_gross_mean = bom_movie_gross['foreign_gross'].mean()\n",
    "bom_movie_gross['foreign_gross'].fillna(foreign_gross_mean, inplace=True)\n",
    "print(bom_movie_gross.head())\n",
    "\n",
    "#tmdb_movies Data set\n",
    "print(\"\\nHandling Missing Values in tmdb_movies DataFrame:\")\n",
    "tmdb_movies.dropna(subset=['genre_ids'], inplace=True)\n",
    "print(tmdb_movies.head())\n",
    "\n",
    "#tn_movie_budgets Data set\n",
    "print(\"\\nHandling Missing Values in tn_movie_budgets DataFrame:\")\n",
    "tn_movie_budgets['production_budget'] = tn_movie_budgets['production_budget'].str.replace('$', '').str.replace(',', '').astype(float)\n",
    "production_budget_median = tn_movie_budgets['production_budget'].median()\n",
    "tn_movie_budgets['production_budget'].fillna(production_budget_median, inplace=True)\n",
    "tn_movie_budgets['domestic_gross'] = tn_movie_budgets['domestic_gross'].str.replace('$', '').str.replace(',', '').astype(float)\n",
    "tn_movie_budgets['worldwide_gross'] = tn_movie_budgets['worldwide_gross'].str.replace('$', '').str.replace(',', '').astype(float)\n",
    "\n",
    "#rt_movie_info Data set\n",
    "print(\"\\nHandling Missing Values in rt_movie_info DataFrame:\")\n",
    "rt_movie_info.dropna(subset=['genre', 'director', 'writer', 'studio'], inplace=True)\n",
    "print(rt_movie_info.head())"
   ]
  },
  {
   "cell_type": "code",
   "execution_count": 15,
   "metadata": {},
   "outputs": [
    {
     "name": "stdout",
     "output_type": "stream",
     "text": [
      "Columns in rt_movie_info dataset:\n",
      "Index(['id', 'synopsis', 'rating', 'genre', 'director', 'writer',\n",
      "       'theater_date', 'dvd_date', 'currency', 'box_office', 'runtime',\n",
      "       'studio'],\n",
      "      dtype='object')\n",
      "\n",
      "Columns in rt_reviews dataset:\n",
      "Index(['id', 'review', 'rating', 'fresh', 'critic', 'top_critic', 'publisher',\n",
      "       'date'],\n",
      "      dtype='object')\n",
      "\n",
      "Columns in tn_movie_budgets dataset:\n",
      "Index(['id', 'release_date', 'movie', 'production_budget', 'domestic_gross',\n",
      "       'worldwide_gross'],\n",
      "      dtype='object')\n",
      "\n",
      "Columns in tmdb_movies dataset:\n",
      "Index(['Unnamed: 0', 'genre_ids', 'id', 'original_language', 'original_title',\n",
      "       'popularity', 'release_date', 'title', 'vote_average', 'vote_count'],\n",
      "      dtype='object')\n"
     ]
    }
   ],
   "source": [
    "#Checking column names\n",
    "print(\"Columns in rt_movie_info dataset:\")\n",
    "print(rt_movie_info.columns)\n",
    "\n",
    "print(\"\\nColumns in rt_reviews dataset:\")\n",
    "print(rt_reviews.columns)\n",
    "\n",
    "print(\"\\nColumns in tn_movie_budgets dataset:\")\n",
    "print(tn_movie_budgets.columns)\n",
    "\n",
    "print(\"\\nColumns in tmdb_movies dataset:\")\n",
    "print(tmdb_movies.columns)"
   ]
  },
  {
   "cell_type": "markdown",
   "metadata": {},
   "source": [
    "# Data Understanding"
   ]
  },
  {
   "cell_type": "markdown",
   "metadata": {},
   "source": [
    "# Questions"
   ]
  },
  {
   "cell_type": "markdown",
   "metadata": {},
   "source": [
    "1) Which movie genres have historically generated the highest box office revenues?\n",
    "\n",
    "2) What is the relationship between movie release dates and box office performance, and how can Microsoft optimize its movie release strategy?\n",
    "\n",
    "3) What are the most profitable genres in the film industry, and how can Microsoft strategically invest in these genres to maximize revenue and success?\n",
    "\n",
    "4) How can Microsoft optimize its movie production and marketing strategy to maximize box office revenue?"
   ]
  },
  {
   "cell_type": "markdown",
   "metadata": {},
   "source": [
    "# Data Analysis"
   ]
  },
  {
   "cell_type": "markdown",
   "metadata": {},
   "source": [
    "**EXPLORATORY DATA ANALYSIS (EDA)**\n",
    "\n",
    "1. Top-Performing Movie Genres by Box Office Revenue - A bar chart to visualize how the historical box office data Action and Andventure genre has generated the highest box office revenues.\n"
   ]
  },
  {
   "cell_type": "code",
   "execution_count": 16,
   "metadata": {},
   "outputs": [
    {
     "data": {
      "image/png": "[encoded data removed]",
      "text/plain": [
       "<Figure size 864x432 with 1 Axes>"
      ]
     },
     "metadata": {
      "needs_background": "light"
     },
     "output_type": "display_data"
    }
   ],
   "source": [
    "# Merging BOM Movie Gross and TMDB Movies datasets on the 'title' column\n",
    "merged_data = pd.merge(bom_movie_gross, tmdb_movies, on='title', how='inner')\n",
    "\n",
    "# Extracting and cleaning genre information\n",
    "merged_data['genres'] = merged_data['genre_ids'].apply(lambda x: x.strip('[]').replace(' ', '').split(','))\n",
    "\n",
    "# Initializing a dictionary to store genre-wise box office revenue\n",
    "genre_revenue = {}\n",
    "\n",
    "# Iterating through rows and calculate genre-wise revenue\n",
    "for _, row in merged_data.iterrows():\n",
    "    for genre in row['genres']:\n",
    "        if genre in genre_revenue:\n",
    "            if isinstance(row['foreign_gross'], str):\n",
    "                foreign_gross = float(row['foreign_gross'].replace(',', ''))\n",
    "            else:\n",
    "                foreign_gross = 0\n",
    "            genre_revenue[genre] += float(row['domestic_gross']) + foreign_gross\n",
    "        else:\n",
    "            if isinstance(row['foreign_gross'], str):\n",
    "                foreign_gross = float(row['foreign_gross'].replace(',', ''))\n",
    "            else:\n",
    "                foreign_gross = 0\n",
    "            genre_revenue[genre] = float(row['domestic_gross']) + foreign_gross\n",
    "\n",
    "# Converting the genre-wise revenue dictionary to a DataFrame\n",
    "genre_revenue_df = pd.DataFrame(list(genre_revenue.items()), columns=['Genre', 'Total Revenue'])\n",
    "\n",
    "# Sorting the DataFrame by total revenue in descending order\n",
    "genre_revenue_df = genre_revenue_df.sort_values(by='Total Revenue', ascending=False)\n",
    "\n",
    "# Bar chart visualizing the top-performing genres\n",
    "plt.figure(figsize=(12, 6))\n",
    "sns.barplot(x='Total Revenue', y='Genre', data=genre_revenue_df.head(10))\n",
    "plt.xlabel('Total Box Office Revenue')\n",
    "plt.ylabel('Genre')\n",
    "plt.title('Top-Performing Movie Genres by Box Office Revenue')\n",
    "plt.show()"
   ]
  },
  {
   "cell_type": "code",
   "execution_count": 17,
   "metadata": {},
   "outputs": [
    {
     "data": {
      "text/plain": [
       "'\\nThe bar chart shows that the analysis based on top performing genres such as Drama Comedy Action and Andventure genres as they\\nhave generated the highest box office revenues.\\n\\n'"
      ]
     },
     "execution_count": 17,
     "metadata": {},
     "output_type": "execute_result"
    }
   ],
   "source": [
    "\"\"\"\n",
    "The bar chart shows that the analysis based on top performing genres such as Drama Comedy Action and Andventure genres as they\n",
    "have generated the highest box office revenues.\n",
    "\n",
    "\"\"\""
   ]
  },
  {
   "cell_type": "markdown",
   "metadata": {},
   "source": [
    "2. Box Office Performance by Release Month - A box plot visualizing the variation in box office performance across different months also indicating that the release month has an impact on a movie's  box office success."
   ]
  },
  {
   "cell_type": "code",
   "execution_count": 18,
   "metadata": {},
   "outputs": [
    {
     "data": {
      "image/png": "[encoded data removed]",
      "text/plain": [
       "<Figure size 864x432 with 1 Axes>"
      ]
     },
     "metadata": {
      "needs_background": "light"
     },
     "output_type": "display_data"
    }
   ],
   "source": [
    "# Converting 'release_date' column to datetime in both dataframes\n",
    "tmdb_movies['release_date'] = pd.to_datetime(tmdb_movies['release_date'])\n",
    "tn_movie_budgets['release_date'] = pd.to_datetime(tn_movie_budgets['release_date'])\n",
    "\n",
    "# Extracting relevant columns for analysis from 'tn_movie_budgets'\n",
    "tn_movie_budgets = tn_movie_budgets[['movie', 'production_budget', 'worldwide_gross', 'release_date']]\n",
    "\n",
    "#Merging dataframes based on movie titles\n",
    "merged_data = pd.merge(tmdb_movies, tn_movie_budgets, left_on='title', right_on='movie', how='inner')\n",
    "\n",
    "# Analyzing the relationship between release dates and box office performance\n",
    "merged_data['release_month'] = merged_data['release_date_x'].dt.month\n",
    "\n",
    "# Summary statistics and visualization\n",
    "summary_stats = merged_data.groupby('release_month')['worldwide_gross'].describe()\n",
    "\n",
    "# Visualization\n",
    "plt.figure(figsize=(12, 6))\n",
    "sns.boxplot(x='release_month', y='worldwide_gross', data=merged_data)\n",
    "plt.xlabel('Release Month')\n",
    "plt.ylabel('Worldwide Box Office Gross')\n",
    "plt.title('Box Office Performance by Release Month')\n",
    "\n",
    "plt.show()"
   ]
  },
  {
   "cell_type": "code",
   "execution_count": 19,
   "metadata": {},
   "outputs": [
    {
     "data": {
      "text/plain": [
       "\"\\nThe box plot shows that as the there is variation in box office performance across different months, indicating that the\\nrelease month has an impact on a movie's box office success.\\n\\nMovies released during the summer months (May to August) tend to have higher box office gross on average compared to other\\nmonths. This is likely due to the summer vacation period, when more people have time to watch movies.\\n\\nMovies released in November and December also exhibit high box office performance, likely due to the holiday season and \\nincreased movie-going during that time.\\n\\nSome months, such as January and September, show lower box office performance, possibly due to post-holiday slowdowns and\\nback-to-school periods.\\n\\n\""
      ]
     },
     "execution_count": 19,
     "metadata": {},
     "output_type": "execute_result"
    }
   ],
   "source": [
    "\"\"\"\n",
    "The box plot shows that as the there is variation in box office performance across different months, indicating that the\n",
    "release month has an impact on a movie's box office success.\n",
    "\n",
    "Movies released during the summer months (May to August) tend to have higher box office gross on average compared to other\n",
    "months. This is likely due to the summer vacation period, when more people have time to watch movies.\n",
    "\n",
    "Movies released in November and December also exhibit high box office performance, likely due to the holiday season and \n",
    "increased movie-going during that time.\n",
    "\n",
    "Some months, such as January and September, show lower box office performance, possibly due to post-holiday slowdowns and\n",
    "back-to-school periods.\n",
    "\n",
    "\"\"\""
   ]
  },
  {
   "cell_type": "markdown",
   "metadata": {},
   "source": [
    "3. Scatterplot - Displaying the relationship between the production budget (x-axis) and the domestic gross (box office revenue) (y-axis) for a set of movies. Each point on the scatterplot represents a movie from the dataset."
   ]
  },
  {
   "cell_type": "code",
   "execution_count": 20,
   "metadata": {},
   "outputs": [
    {
     "data": {
      "image/png": "[encoded data removed]",
      "text/plain": [
       "<Figure size 720x432 with 1 Axes>"
      ]
     },
     "metadata": {
      "needs_background": "light"
     },
     "output_type": "display_data"
    }
   ],
   "source": [
    "# Merging tn_movie_budgets and bom_movie_gross on 'movie'\n",
    "merged_data = pd.merge(tn_movie_budgets, bom_movie_gross, left_on='movie', right_on='title', how='inner')\n",
    "\n",
    "# Merging merged_data with tmdb_movies on 'original_title'\n",
    "merged_data = pd.merge(merged_data, tmdb_movies, left_on='movie', right_on='original_title', how='inner')\n",
    "\n",
    "# Visualize the relationship between budget and box office revenue\n",
    "plt.figure(figsize=(10, 6))\n",
    "sns.scatterplot(data=merged_data, x='production_budget', y='domestic_gross')\n",
    "plt.xlabel('Production Budget')\n",
    "plt.ylabel('Domestic Gross (Box Office Revenue)')\n",
    "plt.title('Budget vs. Domestic Gross')\n",
    "plt.show()"
   ]
  },
  {
   "cell_type": "code",
   "execution_count": 21,
   "metadata": {},
   "outputs": [
    {
     "data": {
      "text/plain": [
       "'\\nThe scatter plot shows a general trend thatshows a positive relationship between the production budget and domestic gross \\nthe production budget of a movie increases as its domestic gross tends to increase.\\n\\nThere are outliers which are far away from the main cluster they represent movies with significantly higher domestic gross \\ncompared to their production budget.\\n\\nThe data points spread along the y-axis suggest that there is variability in domestic gross even for movies with similar \\nproduction budget.\\n\\nThere are clusters of points with certain budget ranges which indicate that certain budget renages are associated with \\nspecific  performance patterns.\\n\\n'"
      ]
     },
     "execution_count": 21,
     "metadata": {},
     "output_type": "execute_result"
    }
   ],
   "source": [
    "\"\"\"\n",
    "The scatter plot shows a general trend thatshows a positive relationship between the production budget and domestic gross \n",
    "the production budget of a movie increases as its domestic gross tends to increase.\n",
    "\n",
    "There are outliers which are far away from the main cluster they represent movies with significantly higher domestic gross \n",
    "compared to their production budget.\n",
    "\n",
    "The data points spread along the y-axis suggest that there is variability in domestic gross even for movies with similar \n",
    "production budget.\n",
    "\n",
    "There are clusters of points with certain budget ranges which indicate that certain budget renages are associated with \n",
    "specific  performance patterns.\n",
    "\n",
    "\"\"\""
   ]
  },
  {
   "cell_type": "markdown",
   "metadata": {},
   "source": [
    "# Recommendation"
   ]
  },
  {
   "cell_type": "markdown",
   "metadata": {},
   "source": [
    "1) Microsoft movie studio should consider investing more on the top erfoming genres to generate more revnue.\n",
    "\n",
    "2) Microsoft should consider strategically timing the release of their movies. Aim to release high-budget, high-potential films during peak months (summer and holiday season) to maximize box office revenue. Conversely, consider avoiding the low-performing months for major releases.\n",
    "\n",
    "3) Microsoft should allocate marketing and promotional efforts to coincide with peak months. This can help build anticipation and draw larger audiences during these periods.\n",
    "\n",
    "4) While summer and holiday months are promising, Microsoft should maintain a diverse movie portfolio throughout the year. Smaller budget or niche films can perform well during other months and help maintain a consistent presence in the market.\n",
    "\n",
    "5) Micosoft should identify and understand outliers as they may indicate instances where a movie achieved exceptional box office success relative to its budget."
   ]
  }
 ],
 "metadata": {
  "kernelspec": {
   "display_name": "Python 3",
   "language": "python",
   "name": "python3"
  },
  "language_info": {
   "codemirror_mode": {
    "name": "ipython",
    "version": 3
   },
   "file_extension": ".py",
   "mimetype": "text/x-python",
   "name": "python",
   "nbconvert_exporter": "python",
   "pygments_lexer": "ipython3",
   "version": "3.8.5"
  }
 },
 "nbformat": 4,
 "nbformat_minor": 2
}
